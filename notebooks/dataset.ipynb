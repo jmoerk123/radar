{
 "cells": [
  {
   "cell_type": "code",
   "execution_count": 1,
   "id": "d9600ca6",
   "metadata": {},
   "outputs": [],
   "source": [
    "from datetime import datetime\n",
    "from pathlib import Path\n",
    "\n",
    "import cartopy.crs as ccrs\n",
    "import h5py\n",
    "import matplotlib.pyplot as plt\n",
    "import numpy as np\n",
    "import pandas as pd\n",
    "import xarray as xr\n",
    "from matplotlib.patches import Rectangle\n",
    "import torch\n",
    "\n",
    "from radar_forcast.data import GetH5\n"
   ]
  },
  {
   "cell_type": "code",
   "execution_count": 2,
   "id": "d63d8a1a",
   "metadata": {},
   "outputs": [],
   "source": [
    "DEBUG = [\n",
    "    pd.Timestamp(\"2025-08-21T00:025:00\", tz=\"UTC\"),\n",
    "    pd.Timestamp(\"2025-08-22T23:59:00\", tz=\"UTC\"),\n",
    "]\n",
    "\n",
    "REGION_AA = {\"lat_range\": (56.4, 57.4), \"lon_range\": (9.4, 10.4)}\n",
    "\n",
    "path = Path(\"/media/jam/HDD/dmi/radar/2025/dk_202509091530.h5\")"
   ]
  },
  {
   "cell_type": "code",
   "execution_count": 5,
   "id": "ffe43a78",
   "metadata": {},
   "outputs": [],
   "source": [
    "d = GetH5(path)\n",
    "d.set_region(**REGION_AA)\n",
    "d2 = GetH5([path, path])\n",
    "d2.set_region(**REGION_AA)"
   ]
  },
  {
   "cell_type": "code",
   "execution_count": 15,
   "id": "eda8b43a",
   "metadata": {},
   "outputs": [
    {
     "data": {
      "text/plain": [
       "torch.Size([1, 230, 125])"
      ]
     },
     "execution_count": 15,
     "metadata": {},
     "output_type": "execute_result"
    }
   ],
   "source": [
    "torch.from_numpy(d.da.values).shape"
   ]
  },
  {
   "cell_type": "code",
   "execution_count": 16,
   "id": "9cb3b91a",
   "metadata": {},
   "outputs": [
    {
     "data": {
      "text/plain": [
       "torch.Size([2, 230, 125])"
      ]
     },
     "execution_count": 16,
     "metadata": {},
     "output_type": "execute_result"
    }
   ],
   "source": [
    "torch.concat([torch.from_numpy(d1.values) for d1 in d2.da], dim=0).shape"
   ]
  }
 ],
 "metadata": {
  "kernelspec": {
   "display_name": "radar-forcast",
   "language": "python",
   "name": "python3"
  },
  "language_info": {
   "codemirror_mode": {
    "name": "ipython",
    "version": 3
   },
   "file_extension": ".py",
   "mimetype": "text/x-python",
   "name": "python",
   "nbconvert_exporter": "python",
   "pygments_lexer": "ipython3",
   "version": "3.12.3"
  }
 },
 "nbformat": 4,
 "nbformat_minor": 5
}
